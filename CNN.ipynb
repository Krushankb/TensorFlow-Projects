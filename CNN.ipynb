{
 "cells": [
  {
   "cell_type": "code",
   "execution_count": null,
   "id": "317b3109",
   "metadata": {},
   "outputs": [],
   "source": [
    "pip install -q tensorflow tensorflow-datasets"
   ]
  },
  {
   "cell_type": "code",
   "execution_count": null,
   "id": "a6a61bc4",
   "metadata": {},
   "outputs": [],
   "source": [
    "import matplotlib.pyplot as plt\n",
    "import numpy as np\n",
    "\n",
    "import tensorflow as tf\n",
    "import tensorflow_datasets as tfds\n",
    "\n",
    "from tensorflow import keras\n",
    "# tfds.disable_progress_bar()"
   ]
  },
  {
   "cell_type": "code",
   "execution_count": null,
   "id": "4d28b0f1",
   "metadata": {},
   "outputs": [],
   "source": [
    "# https://www.tensorflow.org/datasets/overview\n",
    "# https://www.tensorflow.org/datasets/catalog/overview\n",
    "\n",
    "tfds.list_builders()"
   ]
  },
  {
   "cell_type": "code",
   "execution_count": null,
   "id": "a0c3bc20",
   "metadata": {},
   "outputs": [],
   "source": [
    "builder = tfds.builder('rock_paper_scissors')\n",
    "info = builder.info\n",
    "\n",
    "print(info)"
   ]
  },
  {
   "cell_type": "code",
   "execution_count": null,
   "id": "853b4bbc",
   "metadata": {},
   "outputs": [],
   "source": [
    "# Prepare Rock, Paper, Scissors Data\n",
    "ds_train = tfds.load(name='rock_paper_scissors', split=\"train\")\n",
    "ds_test = tfds.load(name='rock_paper_scissors', split=\"test\")"
   ]
  },
  {
   "cell_type": "code",
   "execution_count": null,
   "id": "364c9e78",
   "metadata": {},
   "outputs": [],
   "source": [
    "#Show examples\n",
    "fig = tfds.show_examples(info, ds_train)"
   ]
  },
  {
   "cell_type": "code",
   "execution_count": null,
   "id": "1d640885",
   "metadata": {},
   "outputs": [],
   "source": [
    "# Additional Data Prep .numpy --> changes to numpy format\n",
    "train_images = np.array([example['image'].numpy()[:,:,0] for example in ds_train])\n",
    "train_labels = np.array([example['label'].numpy() for example in ds_train])\n",
    "\n",
    "test_images = np.array([example['image'].numpy()[:,:,0] for example in ds_test])\n",
    "test_labels = np.array([example['label'].numpy() for example in ds_test])"
   ]
  },
  {
   "cell_type": "code",
   "execution_count": null,
   "id": "6d40e537",
   "metadata": {},
   "outputs": [],
   "source": [
    "train_images = train_images.reshape(2520, 300, 300, 1)\n",
    "test_images = test_images.reshape(372, 300, 300, 1)\n",
    "\n",
    "train_images = train_images.astype('float32')\n",
    "test_images = test_images.astype('float32')\n",
    "\n",
    "train_images /= 255\n",
    "test_images /= 255"
   ]
  },
  {
   "cell_type": "code",
   "execution_count": null,
   "id": "29a89582",
   "metadata": {
    "scrolled": true
   },
   "outputs": [],
   "source": [
    "#Train a neural network (basic approach)\n",
    "\n",
    "model = keras.Sequential([\n",
    "    keras.layers.Flatten(),\n",
    "    keras.layers.Dense(512, activation=\"relu\"),\n",
    "    keras.layers.Dense(256, activation=\"relu\"),\n",
    "    keras.layers.Dense(3, activation=\"softmax\")\n",
    "])\n",
    "\n",
    "model.compile(optimizer='adam',\n",
    "             loss=keras.losses.SparseCategoricalCrossentropy(),\n",
    "             metrics=['accuracy'])\n",
    "\n",
    "model.fit(train_images, train_labels, epochs=5, batch_size=32)\n",
    "\n"
   ]
  },
  {
   "cell_type": "code",
   "execution_count": null,
   "id": "54191234",
   "metadata": {},
   "outputs": [],
   "source": [
    "# Train a Network (convolutional approach)\n",
    "model = keras.Sequential([\n",
    "    keras.layers.Conv2D(64, 3, activation='relu', input_shape=(300,300,1)),\n",
    "    keras.layers.Conv2D(32, 3, activation='relu'),\n",
    "    keras.layers.Flatten(),\n",
    "    keras.layers.Dense(3, activation='softmax')\n",
    "])\n",
    "\n",
    "model.compile(optimizer='adam',\n",
    "             loss=keras.losses.SparseCategoricalCrossentropy(),\n",
    "             metrics=['accuracy'])\n",
    "\n",
    "model.fit(train_images, train_labels, epochs=5, batch_size=32)"
   ]
  },
  {
   "cell_type": "code",
   "execution_count": null,
   "id": "5cda0cfc",
   "metadata": {},
   "outputs": [],
   "source": [
    "model.evaluate(test_images, test_labels)"
   ]
  },
  {
   "cell_type": "code",
   "execution_count": null,
   "id": "6319046d",
   "metadata": {},
   "outputs": [],
   "source": [
    "# Better Convolutional Network\n",
    "model = keras.Sequential([\n",
    "    keras.layers.AveragePooling2D(6,3, input_shape=(300,300,1)),\n",
    "    keras.layers.Conv2D(64, 3, activation='relu'),\n",
    "    keras.layers.Conv2D(32, 3, activation='relu'),\n",
    "    keras.layers.MaxPool2D(2,2),\n",
    "    keras.layers.Dropout(0.5),\n",
    "    keras.layers.Flatten(),\n",
    "    keras.layers.Dense(128, activation='relu'),\n",
    "    keras.layers.Dense(3, activation='softmax')\n",
    "])\n",
    "\n",
    "model.compile(optimizer='adam',\n",
    "             loss=keras.losses.SparseCategoricalCrossentropy(),\n",
    "             metrics=['accuracy'])\n",
    "\n",
    "model.fit(train_images, train_labels, epochs=5, batch_size=32)"
   ]
  },
  {
   "cell_type": "code",
   "execution_count": null,
   "id": "53becaa4",
   "metadata": {},
   "outputs": [],
   "source": [
    "model.evaluate(test_images, test_labels)"
   ]
  },
  {
   "cell_type": "code",
   "execution_count": null,
   "id": "acd9fbb1",
   "metadata": {},
   "outputs": [],
   "source": [
    "pip install -U keras-tuner"
   ]
  },
  {
   "cell_type": "code",
   "execution_count": null,
   "id": "76f5f290",
   "metadata": {},
   "outputs": [],
   "source": [
    "from kerastuner.tuners import RandomSearch\n",
    "\n",
    "def build_model(hp):\n",
    "    model = keras.Sequential()\n",
    "    model.add(keras.layers.AveragePooling2D(6,3, input_shape=(300,300,1)))\n",
    "    for i in range(hp.Int(\"Conv Layers\", min_value=0, max_value=3)):\n",
    "        model.add(keras.layers.Conv2D(hp.Choice(f\"layer_{i}_filters\", [16,32,64]), 3, activation='relu'))\n",
    "    model.add(keras.layers.MaxPool2D(2,2))\n",
    "    model.add(keras.layers.Dropout(0.5))\n",
    "    model.add(keras.layers.Flatten())\n",
    "    \n",
    "    model.add(keras.layers.Dense(hp.Choice(\"Dense layer\", [64, 128, 256, 512, 1024]), activation='relu'))\n",
    "    \n",
    "    model.add(keras.layers.Dense(3, activation='softmax'))\n",
    "    \n",
    "    model.compile(optimizer='adam',\n",
    "             loss=keras.losses.SparseCategoricalCrossentropy(),\n",
    "             metrics=['accuracy'])\n",
    "    return model\n",
    "    \n",
    "tuner = RandomSearch(\n",
    "    build_model,\n",
    "    objective='val_accuracy',\n",
    "    max_trials=32)\n",
    "\n",
    "tuner.search(train_images, train_labels, validation_data=(test_images, test_labels), epochs=10, batch_size=32)"
   ]
  },
  {
   "cell_type": "code",
   "execution_count": null,
   "id": "520ee78e",
   "metadata": {},
   "outputs": [],
   "source": [
    "best_model = tuner.get_best_models[0]"
   ]
  },
  {
   "cell_type": "code",
   "execution_count": null,
   "id": "2a7dc0fa",
   "metadata": {},
   "outputs": [],
   "source": [
    "best_model.evaluate(test_images, test_labels)"
   ]
  },
  {
   "cell_type": "code",
   "execution_count": null,
   "id": "838f7e78",
   "metadata": {},
   "outputs": [],
   "source": [
    "best_model.summary()"
   ]
  },
  {
   "cell_type": "code",
   "execution_count": null,
   "id": "2ece6136",
   "metadata": {},
   "outputs": [],
   "source": [
    "tuner.results_summary()"
   ]
  },
  {
   "cell_type": "code",
   "execution_count": null,
   "id": "8134be66",
   "metadata": {},
   "outputs": [],
   "source": [
    "# Save & Load our Models\n",
    "# best_model.save('./my_model')\n",
    "# Separate Cell:\n",
    "# loaded_model = keras.models.load_model('./my_model')"
   ]
  },
  {
   "cell_type": "code",
   "execution_count": null,
   "id": "b2c83d6d",
   "metadata": {},
   "outputs": [],
   "source": [
    "loaded_model.evaluate(test_images, test_labels)"
   ]
  },
  {
   "cell_type": "code",
   "execution_count": 24,
   "id": "d597d968",
   "metadata": {},
   "outputs": [
    {
     "data": {
      "text/plain": [
       "(300, 300, 3)"
      ]
     },
     "execution_count": 24,
     "metadata": {},
     "output_type": "execute_result"
    },
    {
     "data": {
      "image/png": "[encoded data removed]",
      "text/plain": [
       "<Figure size 432x288 with 1 Axes>"
      ]
     },
     "metadata": {
      "needs_background": "light"
     },
     "output_type": "display_data"
    }
   ],
   "source": [
    "# Plot Image from Numpy Array\n",
    "rgb_images = np.array([example['image'].numpy() for example in ds_train.take(1)])\n",
    "rgb_image = rgb_images[0]\n",
    "\n",
    "image = train_images[0].reshape(300,300)\n",
    "\n",
    "plt.imshow(rgb_image)\n",
    "rgb_image.shape"
   ]
  },
  {
   "cell_type": "code",
   "execution_count": null,
   "id": "9b75565d",
   "metadata": {},
   "outputs": [],
   "source": []
  }
 ],
 "metadata": {
  "kernelspec": {
   "display_name": "Python 3",
   "language": "python",
   "name": "python3"
  },
  "language_info": {
   "codemirror_mode": {
    "name": "ipython",
    "version": 3
   },
   "file_extension": ".py",
   "mimetype": "text/x-python",
   "name": "python",
   "nbconvert_exporter": "python",
   "pygments_lexer": "ipython3",
   "version": "3.8.8"
  }
 },
 "nbformat": 4,
 "nbformat_minor": 5
}
